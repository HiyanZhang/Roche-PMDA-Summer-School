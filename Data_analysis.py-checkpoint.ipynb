{
 "cells": [
  {
   "cell_type": "code",
   "execution_count": 3,
   "id": "66064842",
   "metadata": {},
   "outputs": [],
   "source": [
    "import pandas as pd\n",
    "import numpy as np"
   ]
  },
  {
   "cell_type": "code",
   "execution_count": 78,
   "id": "3942f461",
   "metadata": {},
   "outputs": [
    {
     "name": "stdout",
     "output_type": "stream",
     "text": [
      "(36,)\n"
     ]
    }
   ],
   "source": [
    "results=pd.read_csv(\"data/2022-02-18-TeraTox-commercial-phenoData.txt\",delimiter='\\t')\n",
    "results=results['Teratogenicity']\n",
    "result=np.array([results=='Positive']).reshape(-1,6).any(axis=1).astype(int)\n",
    "print(result.shape)\n",
    "y=result.reshape(-1,1)\n",
    "y=result\n"
   ]
  },
  {
   "cell_type": "code",
   "execution_count": 6,
   "id": "3fd69a97",
   "metadata": {},
   "outputs": [
    {
     "data": {
      "text/html": [
       "<div>\n",
       "<style scoped>\n",
       "    .dataframe tbody tr th:only-of-type {\n",
       "        vertical-align: middle;\n",
       "    }\n",
       "\n",
       "    .dataframe tbody tr th {\n",
       "        vertical-align: top;\n",
       "    }\n",
       "\n",
       "    .dataframe thead th {\n",
       "        text-align: right;\n",
       "    }\n",
       "</style>\n",
       "<table border=\"1\" class=\"dataframe\">\n",
       "  <thead>\n",
       "    <tr style=\"text-align: right;\">\n",
       "      <th></th>\n",
       "      <th>Unnamed: 0</th>\n",
       "      <th>FeatureName</th>\n",
       "      <th>Transcript</th>\n",
       "      <th>Amplicon</th>\n",
       "      <th>GeneID</th>\n",
       "      <th>GeneSymbol</th>\n",
       "      <th>AmpliconSize</th>\n",
       "      <th>IsGeneCard</th>\n",
       "    </tr>\n",
       "  </thead>\n",
       "  <tbody>\n",
       "    <tr>\n",
       "      <th>0</th>\n",
       "      <td>SULT1C2</td>\n",
       "      <td>NM_176825</td>\n",
       "      <td>NM_176825</td>\n",
       "      <td>AMPL17111663</td>\n",
       "      <td>6819</td>\n",
       "      <td>SULT1C2</td>\n",
       "      <td>106</td>\n",
       "      <td>False</td>\n",
       "    </tr>\n",
       "    <tr>\n",
       "      <th>1</th>\n",
       "      <td>CYP1B1</td>\n",
       "      <td>NM_000104</td>\n",
       "      <td>NM_000104</td>\n",
       "      <td>AMPL1643513</td>\n",
       "      <td>1545</td>\n",
       "      <td>CYP1B1</td>\n",
       "      <td>110</td>\n",
       "      <td>False</td>\n",
       "    </tr>\n",
       "    <tr>\n",
       "      <th>2</th>\n",
       "      <td>RARB</td>\n",
       "      <td>NM_000965</td>\n",
       "      <td>NM_000965</td>\n",
       "      <td>AMPL3877085</td>\n",
       "      <td>5915</td>\n",
       "      <td>RARB</td>\n",
       "      <td>108</td>\n",
       "      <td>False</td>\n",
       "    </tr>\n",
       "    <tr>\n",
       "      <th>3</th>\n",
       "      <td>TREX1</td>\n",
       "      <td>NM_016381</td>\n",
       "      <td>NM_016381</td>\n",
       "      <td>AMPL31797718</td>\n",
       "      <td>11277</td>\n",
       "      <td>TREX1</td>\n",
       "      <td>109</td>\n",
       "      <td>False</td>\n",
       "    </tr>\n",
       "    <tr>\n",
       "      <th>4</th>\n",
       "      <td>HOPX</td>\n",
       "      <td>NM_139211</td>\n",
       "      <td>NM_139211</td>\n",
       "      <td>AMPL34269818</td>\n",
       "      <td>84525</td>\n",
       "      <td>HOPX</td>\n",
       "      <td>108</td>\n",
       "      <td>True</td>\n",
       "    </tr>\n",
       "    <tr>\n",
       "      <th>...</th>\n",
       "      <td>...</td>\n",
       "      <td>...</td>\n",
       "      <td>...</td>\n",
       "      <td>...</td>\n",
       "      <td>...</td>\n",
       "      <td>...</td>\n",
       "      <td>...</td>\n",
       "      <td>...</td>\n",
       "    </tr>\n",
       "    <tr>\n",
       "      <th>1210</th>\n",
       "      <td>TRPM8</td>\n",
       "      <td>NM_024080</td>\n",
       "      <td>NM_024080</td>\n",
       "      <td>AMPL35373412</td>\n",
       "      <td>79054</td>\n",
       "      <td>TRPM8</td>\n",
       "      <td>103</td>\n",
       "      <td>True</td>\n",
       "    </tr>\n",
       "    <tr>\n",
       "      <th>1211</th>\n",
       "      <td>SCN4A</td>\n",
       "      <td>NM_000334</td>\n",
       "      <td>NM_000334</td>\n",
       "      <td>AMPL1730502</td>\n",
       "      <td>6329</td>\n",
       "      <td>SCN4A</td>\n",
       "      <td>107</td>\n",
       "      <td>False</td>\n",
       "    </tr>\n",
       "    <tr>\n",
       "      <th>1212</th>\n",
       "      <td>CYP7B1</td>\n",
       "      <td>NM_004820</td>\n",
       "      <td>NM_004820</td>\n",
       "      <td>AMPL29595948</td>\n",
       "      <td>9420</td>\n",
       "      <td>CYP7B1</td>\n",
       "      <td>102</td>\n",
       "      <td>False</td>\n",
       "    </tr>\n",
       "    <tr>\n",
       "      <th>1213</th>\n",
       "      <td>GSTP1</td>\n",
       "      <td>NM_000852</td>\n",
       "      <td>NM_000852</td>\n",
       "      <td>AMPL4426508</td>\n",
       "      <td>2950</td>\n",
       "      <td>GSTP1</td>\n",
       "      <td>107</td>\n",
       "      <td>False</td>\n",
       "    </tr>\n",
       "    <tr>\n",
       "      <th>1214</th>\n",
       "      <td>ACACA</td>\n",
       "      <td>NM_198834</td>\n",
       "      <td>NM_198834</td>\n",
       "      <td>AMPL22279197</td>\n",
       "      <td>31</td>\n",
       "      <td>ACACA</td>\n",
       "      <td>107</td>\n",
       "      <td>False</td>\n",
       "    </tr>\n",
       "  </tbody>\n",
       "</table>\n",
       "<p>1215 rows × 8 columns</p>\n",
       "</div>"
      ],
      "text/plain": [
       "     Unnamed: 0 FeatureName Transcript      Amplicon  GeneID GeneSymbol   \n",
       "0       SULT1C2   NM_176825  NM_176825  AMPL17111663    6819    SULT1C2  \\\n",
       "1        CYP1B1   NM_000104  NM_000104   AMPL1643513    1545     CYP1B1   \n",
       "2          RARB   NM_000965  NM_000965   AMPL3877085    5915       RARB   \n",
       "3         TREX1   NM_016381  NM_016381  AMPL31797718   11277      TREX1   \n",
       "4          HOPX   NM_139211  NM_139211  AMPL34269818   84525       HOPX   \n",
       "...         ...         ...        ...           ...     ...        ...   \n",
       "1210      TRPM8   NM_024080  NM_024080  AMPL35373412   79054      TRPM8   \n",
       "1211      SCN4A   NM_000334  NM_000334   AMPL1730502    6329      SCN4A   \n",
       "1212     CYP7B1   NM_004820  NM_004820  AMPL29595948    9420     CYP7B1   \n",
       "1213      GSTP1   NM_000852  NM_000852   AMPL4426508    2950      GSTP1   \n",
       "1214      ACACA   NM_198834  NM_198834  AMPL22279197      31      ACACA   \n",
       "\n",
       "      AmpliconSize  IsGeneCard  \n",
       "0              106       False  \n",
       "1              110       False  \n",
       "2              108       False  \n",
       "3              109       False  \n",
       "4              108        True  \n",
       "...            ...         ...  \n",
       "1210           103        True  \n",
       "1211           107       False  \n",
       "1212           102       False  \n",
       "1213           107       False  \n",
       "1214           107       False  \n",
       "\n",
       "[1215 rows x 8 columns]"
      ]
     },
     "execution_count": 6,
     "metadata": {},
     "output_type": "execute_result"
    }
   ],
   "source": [
    "pd.read_csv(\"data/2022-02-18-TeraTox-commercial-featureData.txt\",delimiter='\\t')"
   ]
  },
  {
   "cell_type": "code",
   "execution_count": 18,
   "id": "007c775b",
   "metadata": {},
   "outputs": [
    {
     "data": {
      "text/plain": [
       "(1215, 36, 6)"
      ]
     },
     "execution_count": 18,
     "metadata": {},
     "output_type": "execute_result"
    }
   ],
   "source": [
    "logfc=pd.read_csv(\"data/2022-02-18-TeraTox-commercial-logFC.gct\",skiprows=range(0,1),delimiter='\\t',header=1)\n",
    "log_fc=logfc.iloc[:,2:].to_numpy().reshape(1215,36,6)\n",
    "log_fc.shape"
   ]
  },
  {
   "cell_type": "code",
   "execution_count": 12,
   "id": "6f1a11ac",
   "metadata": {},
   "outputs": [],
   "source": [
    "# pd.read_csv(\"data/GSE183534_FactorAnalysis-DGEList.gct\",skiprows=range(0,1),delimiter='\\t')"
   ]
  },
  {
   "cell_type": "code",
   "execution_count": 52,
   "id": "bc23fa50",
   "metadata": {},
   "outputs": [],
   "source": [
    "\n",
    "from scipy.stats import norm\n",
    "pscore=pd.read_csv(\"data/2022-02-18-TeraTox-commercial-pScore.gct\",skiprows=range(0,1),delimiter='\\t',header=1)\n",
    "# print(pscore.iloc[:,2:].to_numpy().shape())\n",
    "\n",
    "pvalues=pscore.iloc[:,2:].to_numpy().reshape(1215,36,6)\n",
    "z_scores=norm.cdf(pvalues)\n"
   ]
  },
  {
   "cell_type": "code",
   "execution_count": 14,
   "id": "6372fbdc",
   "metadata": {},
   "outputs": [
    {
     "ename": "NameError",
     "evalue": "name 'logfc' is not defined",
     "output_type": "error",
     "traceback": [
      "\u001b[0;31m---------------------------------------------------------------------------\u001b[0m",
      "\u001b[0;31mNameError\u001b[0m                                 Traceback (most recent call last)",
      "Cell \u001b[0;32mIn[14], line 4\u001b[0m\n\u001b[1;32m      2\u001b[0m     \u001b[38;5;28;01mfor\u001b[39;00m i \u001b[38;5;129;01min\u001b[39;00m data\u001b[38;5;241m.\u001b[39mhead():\n\u001b[1;32m      3\u001b[0m         \u001b[38;5;28mprint\u001b[39m(i)\n\u001b[0;32m----> 4\u001b[0m data_prep(\u001b[43mlogfc\u001b[49m)\n",
      "\u001b[0;31mNameError\u001b[0m: name 'logfc' is not defined"
     ]
    }
   ],
   "source": [
    "def data_prep(data):\n",
    "    for i in data.head():\n",
    "        print(i)\n",
    "  \n",
    "    "
   ]
  },
  {
   "cell_type": "code",
   "execution_count": 151,
   "id": "7d46f42c",
   "metadata": {},
   "outputs": [
    {
     "name": "stdout",
     "output_type": "stream",
     "text": [
      "(1215, 36, 6) (1215, 36, 6)\n",
      "(72, 1215)\n"
     ]
    },
    {
     "ename": "NameError",
     "evalue": "name 'Y' is not defined",
     "output_type": "error",
     "traceback": [
      "\u001b[0;31m---------------------------------------------------------------------------\u001b[0m",
      "\u001b[0;31mNameError\u001b[0m                                 Traceback (most recent call last)",
      "Cell \u001b[0;32mIn[151], line 10\u001b[0m\n\u001b[1;32m      8\u001b[0m X\u001b[38;5;241m=\u001b[39mnp\u001b[38;5;241m.\u001b[39mconcatenate([np\u001b[38;5;241m.\u001b[39mmean(np\u001b[38;5;241m.\u001b[39mtranspose(log_fc,(\u001b[38;5;241m1\u001b[39m,\u001b[38;5;241m0\u001b[39m,\u001b[38;5;241m2\u001b[39m)),axis\u001b[38;5;241m=\u001b[39m\u001b[38;5;241m2\u001b[39m),np\u001b[38;5;241m.\u001b[39mstd(np\u001b[38;5;241m.\u001b[39mtranspose(log_fc,(\u001b[38;5;241m1\u001b[39m,\u001b[38;5;241m0\u001b[39m,\u001b[38;5;241m2\u001b[39m)),axis\u001b[38;5;241m=\u001b[39m\u001b[38;5;241m2\u001b[39m)],axis\u001b[38;5;241m=\u001b[39m\u001b[38;5;241m0\u001b[39m)\n\u001b[1;32m      9\u001b[0m \u001b[38;5;28mprint\u001b[39m(X\u001b[38;5;241m.\u001b[39mshape)\n\u001b[0;32m---> 10\u001b[0m \u001b[38;5;28mprint\u001b[39m(\u001b[43mY\u001b[49m)\n",
      "\u001b[0;31mNameError\u001b[0m: name 'Y' is not defined"
     ]
    }
   ],
   "source": [
    "from scipy import stats\n",
    "stats.zscore\n",
    "print(z_scores.shape,log_fc.shape)\n",
    "inputs=z_scores*-log_fc\n",
    "inputs.reshape(1215,-1)\n",
    "X=inputs.T\n",
    "X=stats.zscore(X,axis=1)\n",
    "# X=np.concatenate([np.mean(np.transpose(log_fc,(1,0,2)),axis=2),np.std(np.transpose(log_fc,(1,0,2)),axis=2)],axis=0)\n",
    "print(X.shape)\n",
    "print(Y)\n"
   ]
  },
  {
   "cell_type": "code",
   "execution_count": 143,
   "id": "cccc0cb5",
   "metadata": {},
   "outputs": [
    {
     "name": "stdout",
     "output_type": "stream",
     "text": [
      "0.3333333333333333 0.5\n",
      "Fold 0:\n",
      "0.6 0.42857142857142855\n",
      "Fold 1:\n",
      "0.6666666666666665 0.5714285714285714\n",
      "Fold 2:\n",
      "0.888888888888889 0.8571428571428571\n",
      "Fold 3:\n",
      "0.7272727272727272 0.5714285714285714\n",
      "Fold 4:\n",
      "0.5857142857142857 0.1456862718169367 0.6432323232323232 0.18213485329619372\n"
     ]
    }
   ],
   "source": [
    "from sklearn.model_selection import KFold\n",
    "from sklearn.neighbors import KNeighborsClassifier\n",
    "kf=KFold(n_splits=5, random_state=False, shuffle=True)\n",
    "from sklearn.metrics import precision_score, accuracy_score,f1_score\n",
    "overall_acc=[]\n",
    "overall_f1=[]\n",
    "for i, (train_index, test_index) in enumerate(kf.split(result.reshape(-1,1))):\n",
    "    neigh = KNeighborsClassifier(n_neighbors=1,metric='cosine')\n",
    "    x_train=X[train_index]\n",
    "    y_train=y[train_index]\n",
    "    x_test=X[test_index]\n",
    "    y_test=y[test_index]\n",
    "    neigh.fit(x_train, y_train)\n",
    "    prediction=neigh.predict(x_test)\n",
    "    acc=accuracy_score(prediction,y_test)\n",
    "    overall_acc.append(acc)\n",
    "    f1=f1_score(prediction,y_test)\n",
    "    print(f1, acc)\n",
    "    overall_f1.append(f1)\n",
    "#     print(y_test)\n",
    "    print(f\"Fold {i}:\")\n",
    "print(np.mean(overall_acc),np.std(overall_acc),np.mean(overall_f1),np.std(overall_f1))\n",
    "    \n"
   ]
  },
  {
   "cell_type": "code",
   "execution_count": null,
   "id": "a446a18d",
   "metadata": {},
   "outputs": [],
   "source": []
  }
 ],
 "metadata": {
  "kernelspec": {
   "display_name": "Python 3 (ipykernel)",
   "language": "python",
   "name": "python3"
  },
  "language_info": {
   "codemirror_mode": {
    "name": "ipython",
    "version": 3
   },
   "file_extension": ".py",
   "mimetype": "text/x-python",
   "name": "python",
   "nbconvert_exporter": "python",
   "pygments_lexer": "ipython3",
   "version": "3.10.10"
  }
 },
 "nbformat": 4,
 "nbformat_minor": 5
}
