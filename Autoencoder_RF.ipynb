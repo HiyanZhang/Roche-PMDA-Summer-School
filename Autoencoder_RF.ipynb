{
  "nbformat": 4,
  "nbformat_minor": 0,
  "metadata": {
    "colab": {
      "provenance": []
    },
    "kernelspec": {
      "name": "python3",
      "display_name": "Python 3"
    },
    "language_info": {
      "name": "python"
    }
  },
  "cells": [
    {
      "cell_type": "markdown",
      "source": [
        "Imports"
      ],
      "metadata": {
        "id": "-m3lhbSeGLYi"
      }
    },
    {
      "cell_type": "code",
      "source": [
        "!pip install ml-collections"
      ],
      "metadata": {
        "colab": {
          "base_uri": "https://localhost:8080/"
        },
        "id": "7uDRYUVADWl4",
        "outputId": "22277bec-80a3-4f5c-a4fd-e25eddd44461"
      },
      "execution_count": 65,
      "outputs": [
        {
          "output_type": "stream",
          "name": "stdout",
          "text": [
            "Requirement already satisfied: ml-collections in /usr/local/lib/python3.10/dist-packages (0.1.1)\n",
            "Requirement already satisfied: absl-py in /usr/local/lib/python3.10/dist-packages (from ml-collections) (1.4.0)\n",
            "Requirement already satisfied: PyYAML in /usr/local/lib/python3.10/dist-packages (from ml-collections) (6.0.1)\n",
            "Requirement already satisfied: six in /usr/local/lib/python3.10/dist-packages (from ml-collections) (1.16.0)\n",
            "Requirement already satisfied: contextlib2 in /usr/local/lib/python3.10/dist-packages (from ml-collections) (21.6.0)\n"
          ]
        }
      ]
    },
    {
      "cell_type": "code",
      "source": [
        "import pandas as pd\n",
        "import numpy as np\n",
        "from sklearn.decomposition import PCA\n",
        "import time\n",
        "import torch\n",
        "import torch.nn.functional as F\n",
        "from torchvision import datasets\n",
        "from torchvision import transforms\n",
        "from torch.utils.data import DataLoader\n",
        "\n",
        "if torch.cuda.is_available():\n",
        "    torch.backends.cudnn.deterministic = True\n",
        "import ml_collections\n",
        "from sklearn.ensemble import RandomForestClassifier\n",
        "from sklearn.metrics import f1_score, precision_score, recall_score\n",
        "from imblearn.metrics import specificity_score\n",
        "\n",
        "\n",
        "print('Is Colab using GPU?', torch.cuda.is_available())\n",
        "# Turn on GPU, by clicking Runtime -> change runtime type -> T4 GPU"
      ],
      "metadata": {
        "id": "tY4T1A3KXLAr",
        "colab": {
          "base_uri": "https://localhost:8080/"
        },
        "outputId": "0adf837d-02c7-499d-f630-cdc4221762a3"
      },
      "execution_count": 67,
      "outputs": [
        {
          "output_type": "stream",
          "name": "stdout",
          "text": [
            "Is Colab using GPU? False\n"
          ]
        }
      ]
    },
    {
      "cell_type": "code",
      "source": [
        "############################# SETTINGS ##########################\n",
        "\n",
        "config = ml_collections.ConfigDict()\n",
        "\n",
        "# Device\n",
        "config.device = torch.device(\"cuda:0\" if torch.cuda.is_available() else \"cpu\")\n",
        "print('Device:', config.device)\n",
        "\n",
        "# Hyperparameters\n",
        "config.random_seed = 123\n",
        "config.learning_rate = 0.001\n",
        "config.num_epochs = 1000\n",
        "\n",
        "# Architecture\n",
        "config.num_features = 1215\n",
        "config.latent_dim = 32"
      ],
      "metadata": {
        "colab": {
          "base_uri": "https://localhost:8080/"
        },
        "id": "FucImoAuGXGy",
        "outputId": "51df7673-63e9-46c0-f73a-5e1d6b0cc1f2"
      },
      "execution_count": 68,
      "outputs": [
        {
          "output_type": "stream",
          "name": "stdout",
          "text": [
            "Device: cpu\n"
          ]
        }
      ]
    },
    {
      "cell_type": "code",
      "source": [
        "!gdown --fuzzy https://drive.google.com/file/d/1CQgnLkSVKEPpm9NPLW03scyQy8aRp0qe/view?usp=sharing\n",
        "!gdown --fuzzy https://drive.google.com/file/d/1mBD0zUCuYHtWsRcp6wkWiP76qpCeQkYY/view?usp=sharing!gdown\n",
        "!gdown --fuzzy https://drive.google.com/file/d/17D7MuSJpVjYBafeeFYaDw-a6Mk5Laa7B/view?usp=sharing\n",
        "!gdown --fuzzy https://drive.google.com/file/d/1O_2vgPYdYzJrobKahyiReaepFi1kbhvY/view?usp=sharing\n",
        "!gdown --fuzzy https://drive.google.com/file/d/1uq3_eOzI7xN5mYE8EEsC4-jnrIZfBEig/view?usp=sharing"
      ],
      "metadata": {
        "colab": {
          "base_uri": "https://localhost:8080/"
        },
        "id": "IEKw2NLYW2c0",
        "outputId": "f09f35ec-c955-4091-9a5a-9a403a886ae3"
      },
      "execution_count": 69,
      "outputs": [
        {
          "output_type": "stream",
          "name": "stdout",
          "text": [
            "Downloading...\n",
            "From: https://drive.google.com/uc?id=1CQgnLkSVKEPpm9NPLW03scyQy8aRp0qe\n",
            "To: /content/2022-02-18-TeraTox-commercial-logFC.gct\n",
            "100% 4.88M/4.88M [00:00<00:00, 23.2MB/s]\n",
            "Downloading...\n",
            "From: https://drive.google.com/uc?id=1mBD0zUCuYHtWsRcp6wkWiP76qpCeQkYY\n",
            "To: /content/2022-02-18-TeraTox-commercial-pScore.gct\n",
            "100% 4.70M/4.70M [00:00<00:00, 24.1MB/s]\n",
            "Downloading...\n",
            "From: https://drive.google.com/uc?id=17D7MuSJpVjYBafeeFYaDw-a6Mk5Laa7B\n",
            "To: /content/2022-02-18-TeraTox-commercial-featureData.txt\n",
            "100% 72.8k/72.8k [00:00<00:00, 3.88MB/s]\n",
            "Downloading...\n",
            "From: https://drive.google.com/uc?id=1O_2vgPYdYzJrobKahyiReaepFi1kbhvY\n",
            "To: /content/2022-02-18-TeraTox-commercial-phenoData.txt\n",
            "100% 21.4k/21.4k [00:00<00:00, 47.1MB/s]\n",
            "Downloading...\n",
            "From: https://drive.google.com/uc?id=1uq3_eOzI7xN5mYE8EEsC4-jnrIZfBEig\n",
            "To: /content/2021-06-10-gcGeneFactorAnno-withPositiveCoefs.tsv\n",
            "100% 6.98k/6.98k [00:00<00:00, 25.0MB/s]\n"
          ]
        }
      ]
    },
    {
      "cell_type": "markdown",
      "source": [
        "***Data***"
      ],
      "metadata": {
        "id": "NNUK2Kt_L0zq"
      }
    },
    {
      "cell_type": "code",
      "source": [
        "# phenoData['Teratogenicity'].to_numpy()"
      ],
      "metadata": {
        "id": "6bqv_QqcHlLl"
      },
      "execution_count": 70,
      "outputs": []
    },
    {
      "cell_type": "code",
      "source": [
        "phenoData = pd.read_csv(\"./2022-02-18-TeraTox-commercial-phenoData.txt\", sep='\\t')\n",
        "all_label = (phenoData['Teratogenicity'].to_numpy() == 'Positive').astype(float) # 0 is negative, 1 is positive\n",
        "logFCdata = pd.read_csv(\"./2022-02-18-TeraTox-commercial-logFC.gct\", sep='\\t',skiprows=2)\n",
        "logFCdata = logFCdata.drop(columns=['Description', 'NAME'])\n",
        "\n",
        "all_data = logFCdata.to_numpy().T #[num data, data dim]\n",
        "\n",
        "\n",
        "all_indices = np.arange(all_data.shape[0])\n"
      ],
      "metadata": {
        "id": "uuBiEnSQGYzA"
      },
      "execution_count": 71,
      "outputs": []
    },
    {
      "cell_type": "code",
      "source": [
        "np.random.shuffle(all_indices)\n",
        "\n",
        "train_indices = all_indices[: int(len(all_indices) * 0.8)]\n",
        "val_indices = all_indices[int(len(all_indices) * 0.8): ]\n",
        "\n",
        "train_data = torch.Tensor(all_data[train_indices, :])\n",
        "train_label = all_label[train_indices]\n",
        "\n",
        "\n",
        "val_data = torch.Tensor(all_data[val_indices, :])\n",
        "val_label = all_label[val_indices]\n",
        "\n"
      ],
      "metadata": {
        "id": "Rxv5Xc6PIHWh"
      },
      "execution_count": 72,
      "outputs": []
    },
    {
      "cell_type": "markdown",
      "source": [
        "Model"
      ],
      "metadata": {
        "id": "Kdkd0E3GGqfa"
      }
    },
    {
      "cell_type": "code",
      "source": [
        "############################# MODEL ##########################\n",
        "\n",
        "class Autoencoder(torch.nn.Module):\n",
        "    def __init__(self, config):\n",
        "        super(Autoencoder, self).__init__()\n",
        "\n",
        "        ### ENCODER\n",
        "\n",
        "        self.linear_1 = torch.nn.Linear(config.num_features, config.latent_dim)\n",
        "\n",
        "        ### DECODER\n",
        "        self.linear_2 = torch.nn.Linear(config.latent_dim, config.num_features)\n",
        "        self.linear_1.weight.detach().normal_(0.0, 0.1)\n",
        "        self.linear_1.bias.detach().zero_()\n",
        "\n",
        "    def encoder(self, x):\n",
        "        encoded = self.linear_1(x)\n",
        "        encoded = F.leaky_relu(encoded)\n",
        "        return encoded\n",
        "\n",
        "    def decoder(self, encoded_x):\n",
        "        logits = self.linear_2(encoded_x)\n",
        "        # decoded = torch.sigmoid(logits)\n",
        "        decoded = logits\n",
        "        return decoded\n",
        "\n",
        "\n",
        "    def forward(self, x):\n",
        "\n",
        "        ### ENCODER\n",
        "        encoded = self.encoder(x)\n",
        "\n",
        "        ### DECODER\n",
        "        decoded = self.decoder(encoded)\n",
        "\n",
        "        return decoded\n",
        "\n",
        "\n",
        "torch.manual_seed(config.random_seed)\n",
        "model = Autoencoder(config)\n",
        "model = model.to(config.device)\n",
        "\n",
        "optimizer = torch.optim.Adam(model.parameters(), lr=config.learning_rate)"
      ],
      "metadata": {
        "id": "1yKT2-MoGXSf"
      },
      "execution_count": 73,
      "outputs": []
    },
    {
      "cell_type": "code",
      "source": [
        "latent = model.encoder(train_data)\n",
        "recon = model.decoder(latent)\n",
        "\n",
        "def compute_loss(recon, input):\n",
        "  squared_error = (recon - input) ** 2\n",
        "  mse = squared_error.mean()\n",
        "  return mse\n",
        "\n",
        "# ((model(train_data_plain) - train_data_plain ) ** 2).mean()\n",
        "\n",
        "# compute_loss(model(train_data_plain), train_data_plain)"
      ],
      "metadata": {
        "id": "HonVeBOI_F_P"
      },
      "execution_count": 74,
      "outputs": []
    },
    {
      "cell_type": "markdown",
      "source": [
        "Training"
      ],
      "metadata": {
        "id": "ZX7JWB7aHMGJ"
      }
    },
    {
      "cell_type": "code",
      "source": [
        "start_time = time.time()\n",
        "for epoch in range(config.num_epochs):\n",
        "\n",
        "    ### FORWARD AND BACK PROP\n",
        "    recon = model(train_data)\n",
        "    loss = compute_loss(recon, train_data)\n",
        "    optimizer.zero_grad()\n",
        "\n",
        "    loss.backward()\n",
        "\n",
        "    ### UPDATE MODEL PARAMETERS\n",
        "    optimizer.step()\n",
        "\n",
        "    with torch.no_grad():\n",
        "        recon = model(val_data)\n",
        "        val_loss = compute_loss(recon, val_data)\n",
        "\n",
        "    ### LOGGING\n",
        "    print('Epoch: %03d/%03d | Train loss: %.4f | Val loss: %.4f'\n",
        "            %(epoch+1, config.num_epochs, loss.item(), val_loss.item()))\n",
        "\n",
        "print('Total Training Time: %.2f min' % ((time.time() - start_time)/60))"
      ],
      "metadata": {
        "id": "G03WmFJNGXX-"
      },
      "execution_count": null,
      "outputs": []
    },
    {
      "cell_type": "code",
      "source": [
        "with torch.no_grad():\n",
        "  train_latent = model.encoder(train_data)\n",
        "  val_latent = model.encoder(val_data)"
      ],
      "metadata": {
        "id": "mgYcYP2IGXca"
      },
      "execution_count": 76,
      "outputs": []
    },
    {
      "cell_type": "markdown",
      "source": [
        "# Classify on original gene expressions"
      ],
      "metadata": {
        "id": "mCtu8mZQFWoY"
      }
    },
    {
      "cell_type": "code",
      "source": [
        "rf_raw = RandomForestClassifier(n_estimators=100, max_depth=5, n_jobs=-1).fit(np.array(train_data), train_label)\n",
        "\n",
        "print(f'Train Accuracy: {rf_raw.score(np.array(train_data), train_label)*100}%')\n",
        "print(f'Val Accuracy: {rf_raw.score(np.array(val_data), val_label)*100}%')"
      ],
      "metadata": {
        "colab": {
          "base_uri": "https://localhost:8080/"
        },
        "id": "dGeJmffxv29r",
        "outputId": "11e70194-0011-41f4-bed2-20b119dd2835"
      },
      "execution_count": 79,
      "outputs": [
        {
          "output_type": "stream",
          "name": "stdout",
          "text": [
            "Train Accuracy: 100.0%\n",
            "Val Accuracy: 72.72727272727273%\n"
          ]
        }
      ]
    },
    {
      "cell_type": "code",
      "source": [
        "y_pred_raw = rf.predict(np.array(val_data))\n",
        "f1_raw = f1_score(val_label, y_pred_raw )\n",
        "precision_raw = precision_score(val_label, y_pred_raw )\n",
        "recall_raw = recall_score(val_label, y_pred_raw )\n",
        "specificity_raw = specificity_score(val_label, y_pred_raw )"
      ],
      "metadata": {
        "id": "M5pqYJz0FfbI",
        "colab": {
          "base_uri": "https://localhost:8080/"
        },
        "outputId": "6ac5cf26-da55-4f46-a80b-ca3b2ef97006"
      },
      "execution_count": 80,
      "outputs": [
        {
          "output_type": "stream",
          "name": "stdout",
          "text": [
            "0.7924528301886793 0.7241379310344828 0.875 0.6\n"
          ]
        }
      ]
    },
    {
      "cell_type": "code",
      "source": [
        "print (f'f1_raw: {f1_raw * 100}%')\n",
        "print (f'precision_raw: {precision_raw * 100}%')\n",
        "print (f'recall_raw: {recall_raw * 100}%%')\n",
        "print (f'specificity_raw: {specificity_raw * 100}%')"
      ],
      "metadata": {
        "colab": {
          "base_uri": "https://localhost:8080/"
        },
        "id": "UY8z6YSQwhiA",
        "outputId": "cf38896d-1723-46e5-c56a-c9b0979f576a"
      },
      "execution_count": 85,
      "outputs": [
        {
          "output_type": "stream",
          "name": "stdout",
          "text": [
            "f1_raw: 79.24528301886792%\n",
            "precision_raw: 72.41379310344827%\n",
            "recall_raw: 87.5%%\n",
            "specificity_raw: 60.0%\n"
          ]
        }
      ]
    },
    {
      "cell_type": "code",
      "source": [],
      "metadata": {
        "id": "Qv87Kj16wlQi"
      },
      "execution_count": null,
      "outputs": []
    },
    {
      "cell_type": "markdown",
      "source": [
        "# Classify on learned latents"
      ],
      "metadata": {
        "id": "SvlghaFNLCHc"
      }
    },
    {
      "cell_type": "code",
      "source": [
        "rf = RandomForestClassifier(n_estimators=100, max_depth=4, n_jobs=-1).fit(np.array(train_latent), train_label)\n",
        "print(f'Train Accuracy: {rf.score(np.array(train_latent), train_label)*100}%')\n",
        "print(f'Val Accuracy: {rf.score(np.array(val_latent), val_label)*100}%')"
      ],
      "metadata": {
        "id": "zUuqRa2rK8ol"
      },
      "execution_count": null,
      "outputs": []
    },
    {
      "cell_type": "code",
      "source": [
        "y_pred = rf.predict(np.array(val_latent))"
      ],
      "metadata": {
        "id": "Ze_oBTMOOCiL"
      },
      "execution_count": null,
      "outputs": []
    },
    {
      "cell_type": "code",
      "source": [
        "f1_score(val_label, y_pred )"
      ],
      "metadata": {
        "id": "ZxXkAmkvMbO2"
      },
      "execution_count": null,
      "outputs": []
    },
    {
      "cell_type": "code",
      "source": [
        "precision_score(val_label, y_pred )"
      ],
      "metadata": {
        "id": "uqBfsoRSOQo0"
      },
      "execution_count": null,
      "outputs": []
    },
    {
      "cell_type": "code",
      "source": [
        "recall_score(val_label, y_pred )"
      ],
      "metadata": {
        "id": "BLZO44DWOmkA"
      },
      "execution_count": null,
      "outputs": []
    },
    {
      "cell_type": "code",
      "source": [
        "specificity_score(val_label, y_pred )"
      ],
      "metadata": {
        "id": "jekA2u3_fmJI"
      },
      "execution_count": null,
      "outputs": []
    },
    {
      "cell_type": "code",
      "source": [],
      "metadata": {
        "id": "J6pS5Hvgnk0c"
      },
      "execution_count": null,
      "outputs": []
    },
    {
      "cell_type": "code",
      "source": [],
      "metadata": {
        "id": "KbfLcTnfn2qh"
      },
      "execution_count": null,
      "outputs": []
    },
    {
      "cell_type": "code",
      "source": [],
      "metadata": {
        "id": "EpVtObZFn2vb"
      },
      "execution_count": null,
      "outputs": []
    },
    {
      "cell_type": "code",
      "source": [],
      "metadata": {
        "id": "FiRXRRlSn2yl"
      },
      "execution_count": null,
      "outputs": []
    },
    {
      "cell_type": "code",
      "source": [],
      "metadata": {
        "id": "MhHPWiY3n219"
      },
      "execution_count": null,
      "outputs": []
    }
  ]
}